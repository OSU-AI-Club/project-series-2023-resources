{
 "cells": [
  {
   "cell_type": "code",
   "execution_count": 4,
   "metadata": {},
   "outputs": [],
   "source": [
    "import torch\n",
    "import torch.nn as nn\n",
    "import torch.optim as optim\n",
    "from torchtext.datasets import IMDB"
   ]
  },
  {
   "cell_type": "code",
   "execution_count": 6,
   "metadata": {},
   "outputs": [
    {
     "ename": "AttributeError",
     "evalue": "'ShardingFilterIterDataPipe' object has no attribute 'next",
     "output_type": "error",
     "traceback": [
      "\u001b[0;31m---------------------------------------------------------------------------\u001b[0m",
      "\u001b[0;31mAttributeError\u001b[0m                            Traceback (most recent call last)",
      "Cell \u001b[0;32mIn[6], line 4\u001b[0m\n\u001b[1;32m      2\u001b[0m train_data \u001b[39m=\u001b[39m IMDB(root\u001b[39m=\u001b[39m\u001b[39m\"\u001b[39m\u001b[39m../data/IMDb\u001b[39m\u001b[39m\"\u001b[39m, split\u001b[39m=\u001b[39m\u001b[39m'\u001b[39m\u001b[39mtrain\u001b[39m\u001b[39m'\u001b[39m)\n\u001b[1;32m      3\u001b[0m test_data \u001b[39m=\u001b[39m IMDB(root\u001b[39m=\u001b[39m\u001b[39m\"\u001b[39m\u001b[39m../data/IMDb\u001b[39m\u001b[39m\"\u001b[39m, split\u001b[39m=\u001b[39m\u001b[39m'\u001b[39m\u001b[39mtest\u001b[39m\u001b[39m'\u001b[39m)\n\u001b[0;32m----> 4\u001b[0m \u001b[39mprint\u001b[39m(train_data\u001b[39m.\u001b[39;49mnext()[\u001b[39m1\u001b[39m])\n",
      "File \u001b[0;32m~/anaconda3/envs/aiclub2023/lib/python3.11/site-packages/torch/utils/data/datapipes/datapipe.py:127\u001b[0m, in \u001b[0;36mIterDataPipe.__getattr__\u001b[0;34m(self, attribute_name)\u001b[0m\n\u001b[1;32m    125\u001b[0m     \u001b[39mreturn\u001b[39;00m function\n\u001b[1;32m    126\u001b[0m \u001b[39melse\u001b[39;00m:\n\u001b[0;32m--> 127\u001b[0m     \u001b[39mraise\u001b[39;00m \u001b[39mAttributeError\u001b[39;00m(\u001b[39m\"\u001b[39m\u001b[39m'\u001b[39m\u001b[39m{0}\u001b[39;00m\u001b[39m'\u001b[39m\u001b[39m object has no attribute \u001b[39m\u001b[39m'\u001b[39m\u001b[39m{1}\u001b[39;00m\u001b[39m\"\u001b[39m\u001b[39m.\u001b[39mformat(\u001b[39mself\u001b[39m\u001b[39m.\u001b[39m\u001b[39m__class__\u001b[39m\u001b[39m.\u001b[39m\u001b[39m__name__\u001b[39m, attribute_name))\n",
      "\u001b[0;31mAttributeError\u001b[0m: 'ShardingFilterIterDataPipe' object has no attribute 'next"
     ]
    }
   ],
   "source": [
    "batch_size = 3\n",
    "train_data = IMDB(root=\"../data/IMDb\", split='train')\n",
    "test_data = IMDB(root=\"../data/IMDb\", split='test')"
   ]
  }
 ],
 "metadata": {
  "kernelspec": {
   "display_name": "aiclub2023",
   "language": "python",
   "name": "python3"
  },
  "language_info": {
   "codemirror_mode": {
    "name": "ipython",
    "version": 3
   },
   "file_extension": ".py",
   "mimetype": "text/x-python",
   "name": "python",
   "nbconvert_exporter": "python",
   "pygments_lexer": "ipython3",
   "version": "3.11.3"
  },
  "orig_nbformat": 4
 },
 "nbformat": 4,
 "nbformat_minor": 2
}
